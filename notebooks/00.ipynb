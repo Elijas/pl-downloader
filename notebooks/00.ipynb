{
 "cells": [
  {
   "cell_type": "code",
   "execution_count": 1,
   "metadata": {},
   "outputs": [
    {
     "name": "stdout",
     "output_type": "stream",
     "text": [
      "Number of URLs loaded from input file: 1062\n"
     ]
    }
   ],
   "source": [
    "from pathlib import Path\n",
    "\n",
    "input_file = Path('../input.txt')\n",
    "with input_file.open('r') as file:\n",
    "    urls = [line.strip() for line in file if line.strip()]\n",
    "print(f\"Number of URLs loaded from input file: {len(urls)}\")"
   ]
  },
  {
   "cell_type": "code",
   "execution_count": 2,
   "metadata": {},
   "outputs": [
    {
     "name": "stdout",
     "output_type": "stream",
     "text": [
      "Number of existing files: 151\n"
     ]
    }
   ],
   "source": [
    "from pathlib import Path\n",
    "import re\n",
    "\n",
    "output_dir = Path('../output')\n",
    "file_pattern = re.compile(r'.*\\.t(\\d+)\\..*')\n",
    "\n",
    "existing_ids = set()\n",
    "for file in output_dir.iterdir():\n",
    "    if not file.name.startswith('.'):\n",
    "        match = file_pattern.match(file.name)\n",
    "        if match:\n",
    "            existing_ids.add(match.group(1))\n",
    "\n",
    "print(f\"Number of existing files: {len(existing_ids)}\")"
   ]
  },
  {
   "cell_type": "markdown",
   "metadata": {},
   "source": []
  },
  {
   "cell_type": "code",
   "execution_count": 3,
   "metadata": {},
   "outputs": [
    {
     "name": "stdout",
     "output_type": "stream",
     "text": [
      "Number of unique URLs to be processed: 788\n"
     ]
    }
   ],
   "source": [
    "import re\n",
    "\n",
    "# Define the regex pattern to extract the ID from the URL\n",
    "url_pattern = re.compile(r'.*t=(\\d+).*')\n",
    "\n",
    "# Filter out URLs that have already been downloaded and remove duplicates\n",
    "filtered_urls = set()\n",
    "for url in urls:\n",
    "    match = url_pattern.match(url)\n",
    "    if match:\n",
    "        url_id = match.group(1)\n",
    "        if url_id not in existing_ids:\n",
    "            filtered_urls.add(url)\n",
    "\n",
    "# Update the urls variable with the filtered list\n",
    "urls = list(filtered_urls)\n",
    "\n",
    "print(f\"Number of unique URLs to be processed: {len(urls)}\")\n"
   ]
  },
  {
   "cell_type": "code",
   "execution_count": 4,
   "metadata": {},
   "outputs": [],
   "source": [
    "assert urls"
   ]
  },
  {
   "cell_type": "code",
   "execution_count": 5,
   "metadata": {},
   "outputs": [
    {
     "data": {
      "application/vnd.jupyter.widget-view+json": {
       "model_id": "559bcba391094a22b2475d33eb2582ca",
       "version_major": 2,
       "version_minor": 0
      },
      "text/plain": [
       "Downloading files:   0%|          | 0/788 [00:00<?, ?file/s]"
      ]
     },
     "metadata": {},
     "output_type": "display_data"
    },
    {
     "name": "stdout",
     "output_type": "stream",
     "text": [
      "Daily download limit reached. Stopping the program.\n"
     ]
    }
   ],
   "source": [
    "from playwright.async_api import async_playwright\n",
    "from dotenv import load_dotenv\n",
    "import os\n",
    "import random\n",
    "import asyncio\n",
    "import time\n",
    "from tqdm.notebook import tqdm\n",
    "import aiofiles\n",
    "\n",
    "load_dotenv()\n",
    "DOMAIN = os.environ['DOMAIN']\n",
    "USERNAME = os.environ['USERNAME']\n",
    "PASSWORD = os.environ['PASSWORD']\n",
    "\n",
    "class DailyDownloadLimitReached(Exception):\n",
    "    \"\"\"Exception raised when the daily download limit is reached.\"\"\"\n",
    "    pass\n",
    "\n",
    "async def random_wait(min_seconds=0.2, max_seconds=1.4):\n",
    "    \"\"\"\n",
    "    Asynchronous function that waits for a random amount of time between min_seconds and max_seconds.\n",
    "    \"\"\"\n",
    "    wait_time = random.uniform(min_seconds, max_seconds)\n",
    "    await asyncio.sleep(wait_time)\n",
    "\n",
    "\n",
    "async def login(page):\n",
    "    await page.goto(f\"https://{DOMAIN}/forum/index.php\")\n",
    "    await random_wait(min_seconds=3, max_seconds=4)\n",
    "    await page.fill('input[name=\"login_username\"]', USERNAME)\n",
    "    await random_wait()\n",
    "    await page.fill('input[name=\"login_password\"]', PASSWORD)\n",
    "    await random_wait()\n",
    "    await page.click('input[type=\"submit\"][name=\"login\"][value=\"Вход\"]')\n",
    "    await random_wait()\n",
    "\n",
    "async with async_playwright() as p:\n",
    "    browser = await p.chromium.launch(headless=False)\n",
    "    page = await browser.new_page()\n",
    "    await login(page)\n",
    "    \n",
    "    try:\n",
    "        for url in tqdm(urls, desc=\"Downloading files\", unit=\"file\"):\n",
    "            await page.goto(url)\n",
    "            await random_wait(0.5, 3)\n",
    "            \n",
    "            try:\n",
    "                download_link = page.locator('a.dl-stub.dl-link')\n",
    "                \n",
    "                # Start waiting for the download\n",
    "                async with page.expect_download() as download_info:\n",
    "                    await download_link.click()\n",
    "                    await random_wait(1, 2)\n",
    "                    # Check if the daily download limit has been reached after clicking\n",
    "                    if await page.locator('text=\"Вы уже исчерпали суточный лимит скачиваний торрент-файлов\"').count() > 0:\n",
    "                        raise DailyDownloadLimitReached(\"Daily download limit reached\")\n",
    "                    \n",
    "                download = await download_info.value\n",
    "\n",
    "                # Create output directory if it doesn't exist\n",
    "                output_dir = Path('../output')\n",
    "                output_dir.mkdir(parents=True, exist_ok=True)\n",
    "\n",
    "                # Wait for the download process to complete and save the downloaded file\n",
    "                file_path = output_dir / download.suggested_filename\n",
    "                await download.save_as(file_path)\n",
    "                \n",
    "                id = url.split('/')[-1]\n",
    "                await random_wait()\n",
    "            except DailyDownloadLimitReached as e:\n",
    "                raise  # Re-raise the exception to stop the entire program\n",
    "            except Exception as e:\n",
    "                id = url.split('/')[-1]\n",
    "                tqdm.write(f\"Failed to download file with ID: {id}. Error: {str(e)}\")\n",
    "            \n",
    "            await random_wait()\n",
    "    except DailyDownloadLimitReached:\n",
    "        print(\"Daily download limit reached. Stopping the program.\")\n",
    "    finally:\n",
    "        time.sleep(3)\n",
    "        await browser.close()\n",
    "\n"
   ]
  }
 ],
 "metadata": {
  "kernelspec": {
   "display_name": ".venv",
   "language": "python",
   "name": "python3"
  },
  "language_info": {
   "codemirror_mode": {
    "name": "ipython",
    "version": 3
   },
   "file_extension": ".py",
   "mimetype": "text/x-python",
   "name": "python",
   "nbconvert_exporter": "python",
   "pygments_lexer": "ipython3",
   "version": "3.11.4"
  }
 },
 "nbformat": 4,
 "nbformat_minor": 2
}
