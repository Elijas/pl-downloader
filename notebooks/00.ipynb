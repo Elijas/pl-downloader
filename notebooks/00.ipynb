{
 "cells": [
  {
   "cell_type": "code",
   "execution_count": 1,
   "metadata": {},
   "outputs": [],
   "source": [
    "from pathlib import Path"
   ]
  },
  {
   "cell_type": "code",
   "execution_count": 2,
   "metadata": {},
   "outputs": [
    {
     "name": "stdout",
     "output_type": "stream",
     "text": [
      "Number of unique URLs loaded from input file: 301\n"
     ]
    }
   ],
   "source": [
    "def load_urls_from_file(file_path):\n",
    "    input_file = Path(file_path)\n",
    "    with input_file.open('r') as file:\n",
    "        urls = set(line.strip() for line in file if line.strip() and not line.startswith('#'))\n",
    "    return urls\n",
    "\n",
    "input_file_path = '../input.txt'\n",
    "urls = load_urls_from_file(input_file_path)\n",
    "print(f\"Number of unique URLs loaded from input file: {len(urls)}\")"
   ]
  },
  {
   "cell_type": "code",
   "execution_count": 3,
   "metadata": {},
   "outputs": [
    {
     "name": "stdout",
     "output_type": "stream",
     "text": [
      "Number of existing files: 200\n"
     ]
    }
   ],
   "source": [
    "from pathlib import Path\n",
    "import re\n",
    "\n",
    "def get_existing_ids(output_dir):\n",
    "    file_pattern = re.compile(r'.*\\.t(\\d+)\\..*')\n",
    "    existing_ids = set()\n",
    "    for file in Path(output_dir).iterdir():\n",
    "        if not file.name.startswith('.'):\n",
    "            match = file_pattern.match(file.name)\n",
    "            if match:\n",
    "                existing_ids.add(match.group(1))\n",
    "    return existing_ids\n",
    "\n",
    "output_dir = Path('../output')\n",
    "existing_ids = get_existing_ids(output_dir)\n",
    "print(f\"Number of existing files: {len(existing_ids)}\")"
   ]
  },
  {
   "cell_type": "code",
   "execution_count": 4,
   "metadata": {},
   "outputs": [
    {
     "name": "stdout",
     "output_type": "stream",
     "text": [
      "Number of unique URLs to be processed: 101\n"
     ]
    }
   ],
   "source": [
    "import re\n",
    "\n",
    "def filter_urls(urls, existing_ids=None):\n",
    "    # Define the regex pattern to extract the ID from the URL\n",
    "    url_pattern = re.compile(r'.*t=(\\d+).*')\n",
    "\n",
    "    # Filter out URLs that have already been downloaded and remove duplicates\n",
    "    filtered_urls = set()\n",
    "    for url in urls:\n",
    "        match = url_pattern.match(url)\n",
    "        if match:\n",
    "            url_id = match.group(1)\n",
    "            if existing_ids is None or url_id not in existing_ids:\n",
    "                filtered_urls.add(url)\n",
    "\n",
    "    return list(filtered_urls)\n",
    "\n",
    "# Use the function to filter the URLs\n",
    "urls = filter_urls(urls, existing_ids)\n",
    "\n",
    "print(f\"Number of unique URLs to be processed: {len(urls)}\")\n"
   ]
  },
  {
   "cell_type": "code",
   "execution_count": 5,
   "metadata": {},
   "outputs": [],
   "source": [
    "assert urls"
   ]
  },
  {
   "cell_type": "code",
   "execution_count": 6,
   "metadata": {},
   "outputs": [
    {
     "data": {
      "application/vnd.jupyter.widget-view+json": {
       "model_id": "ebfa71a61aa444c6b790a02ef1c63846",
       "version_major": 2,
       "version_minor": 0
      },
      "text/plain": [
       "Downloading files:   0%|          | 0/101 [00:00<?, ?file/s]"
      ]
     },
     "metadata": {},
     "output_type": "display_data"
    },
    {
     "name": "stdout",
     "output_type": "stream",
     "text": [
      "Daily limit reached, stopping.\n"
     ]
    }
   ],
   "source": [
    "from playwright.async_api import async_playwright\n",
    "from dotenv import load_dotenv\n",
    "import os\n",
    "import random\n",
    "import asyncio\n",
    "import time\n",
    "from tqdm.notebook import tqdm\n",
    "\n",
    "load_dotenv()\n",
    "DOMAIN = os.environ['DOMAIN']\n",
    "USERNAME = os.environ['USERNAME']\n",
    "PASSWORD = os.environ['PASSWORD']\n",
    "\n",
    "DETAILED_LOGGING = True\n",
    "\n",
    "class DailyDownloadLimitReached(Exception):\n",
    "    \"\"\"Exception raised when the daily download limit is reached.\"\"\"\n",
    "    pass\n",
    "\n",
    "async def random_wait(min_seconds=0.2, max_seconds=1.4):\n",
    "    \"\"\"\n",
    "    Asynchronous function that waits for a random amount of time between min_seconds and max_seconds.\n",
    "    \"\"\"\n",
    "    wait_time = random.uniform(min_seconds, max_seconds)\n",
    "    await asyncio.sleep(wait_time)\n",
    "\n",
    "async def login(page):\n",
    "    await page.goto(f\"https://{DOMAIN}/forum/index.php\")\n",
    "    await random_wait(min_seconds=3, max_seconds=4)\n",
    "    await page.fill('input[name=\"login_username\"]', USERNAME)\n",
    "    await random_wait()\n",
    "    await page.fill('input[name=\"login_password\"]', PASSWORD)\n",
    "    await random_wait()\n",
    "    await page.click('input[type=\"submit\"][name=\"login\"][value=\"Вход\"]')\n",
    "    await random_wait()\n",
    "\n",
    "async with async_playwright() as p:\n",
    "    browser = await p.chromium.launch(headless=False)\n",
    "    page = await browser.new_page()\n",
    "    await login(page)\n",
    "    await asyncio.sleep(5)\n",
    "    \n",
    "    try:\n",
    "        for url in tqdm(urls, desc=\"Downloading files\", unit=\"file\"):\n",
    "            url = url.replace('.cc', '.net')\n",
    "            await page.goto(url, wait_until='domcontentloaded')\n",
    "            await random_wait(0.5, 3)\n",
    "            \n",
    "            try:\n",
    "                download_link = page.locator('a.dl-stub.dl-link')\n",
    "                \n",
    "                async with page.expect_download() as download_info:\n",
    "                    await download_link.click()\n",
    "                    await random_wait(1, 2)\n",
    "                    if await page.locator('text=\"Вы уже исчерпали суточный лимит скачиваний торрент-файлов\"').count() > 0:\n",
    "                        raise DailyDownloadLimitReached(\"Daily download limit reached\")\n",
    "                    \n",
    "                download = await download_info.value\n",
    "\n",
    "                output_dir = Path('../output')\n",
    "                output_dir.mkdir(parents=True, exist_ok=True)\n",
    "\n",
    "                file_path = output_dir / download.suggested_filename\n",
    "                await download.save_as(file_path)\n",
    "                \n",
    "                id = url.split('/')[-1]\n",
    "                await random_wait()\n",
    "            except DailyDownloadLimitReached:\n",
    "                raise\n",
    "            except Exception as e:\n",
    "                id_ = url.split('/')[-1]\n",
    "                print(f\"Error occurred while processing ID {id_}: {str(e)}\")\n",
    "            \n",
    "            await random_wait()\n",
    "    except DailyDownloadLimitReached:\n",
    "        print(\"Daily limit reached, stopping.\")\n",
    "    finally:\n",
    "        time.sleep(3)\n",
    "        await browser.close()\n"
   ]
  }
 ],
 "metadata": {
  "kernelspec": {
   "display_name": ".venv",
   "language": "python",
   "name": "python3"
  },
  "language_info": {
   "codemirror_mode": {
    "name": "ipython",
    "version": 3
   },
   "file_extension": ".py",
   "mimetype": "text/x-python",
   "name": "python",
   "nbconvert_exporter": "python",
   "pygments_lexer": "ipython3",
   "version": "3.11.4"
  }
 },
 "nbformat": 4,
 "nbformat_minor": 2
}
